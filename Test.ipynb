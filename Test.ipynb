{
 "cells": [
  {
   "cell_type": "code",
   "execution_count": 90,
   "metadata": {},
   "outputs": [],
   "source": [
    "import time\n",
    "import pandas as pd\n",
    "import re\n",
    "from selenium import webdriver\n",
    "from selenium.webdriver.common.by import By\n",
    "from selenium.webdriver.support.ui import WebDriverWait\n",
    "from selenium.webdriver.support import expected_conditions as EC\n",
    "from selenium.webdriver.common.keys import Keys"
   ]
  },
  {
   "cell_type": "code",
   "execution_count": 91,
   "metadata": {},
   "outputs": [],
   "source": [
    "lista_procura = ['itub4']\n",
    "browser = webdriver.Firefox()\n",
    "df = pd.DataFrame\n",
    "\n",
    "browser.implicitly_wait(0.5)\n",
    "browser.get('http://www.google.com')"
   ]
  },
  {
   "cell_type": "code",
   "execution_count": 92,
   "metadata": {},
   "outputs": [],
   "source": [
    "def raspa_tela(procura):\n",
    "    search = browser.find_element_by_name('q')\n",
    "    search.send_keys(procura)\n",
    "    search.send_keys(Keys.ENTER)\n",
    "    browser.implicitly_wait(0.5)\n",
    "    cotacao_dia = browser.find_element_by_class_name('wGt0Bc').text\n",
    "    cotacao_dia = cotacao_dia.split(\" \")[0]\n",
    "    demais_valores = browser.find_element_by_class_name('zz63rd').text\n",
    "    demais_valores = re.split('\\n', demais_valores)\n",
    "    demais_valores = demais_valores[:6]\n",
    "    demais_valores.insert(0,'Cotação do dia: ' + cotacao_dia)\n",
    "    return demais_valores"
   ]
  },
  {
   "cell_type": "code",
   "execution_count": 93,
   "metadata": {},
   "outputs": [],
   "source": [
    "matriz_result = []\n",
    "for procura in lista_procura:\n",
    "    matriz_result.append(raspa_tela(procura))\n"
   ]
  },
  {
   "cell_type": "code",
   "execution_count": 94,
   "metadata": {},
   "outputs": [
    {
     "name": "stdout",
     "output_type": "stream",
     "text": [
      "[['Cotação do dia: 25,78', 'Abertura 25,75', 'Alta 26,14', 'Baixa 25,64', 'Cap. merc. 235,20 bi', 'Índice P/L 9,47', 'Rend. div. 2,47%']]\n"
     ]
    }
   ],
   "source": [
    "print(matriz_result)"
   ]
  }
 ],
 "metadata": {
  "interpreter": {
   "hash": "b3ba2566441a7c06988d0923437866b63cedc61552a5af99d1f4fb67d367b25f"
  },
  "kernelspec": {
   "display_name": "Python 3.8.8 ('base')",
   "language": "python",
   "name": "python3"
  },
  "language_info": {
   "codemirror_mode": {
    "name": "ipython",
    "version": 3
   },
   "file_extension": ".py",
   "mimetype": "text/x-python",
   "name": "python",
   "nbconvert_exporter": "python",
   "pygments_lexer": "ipython3",
   "version": "3.8.8"
  },
  "orig_nbformat": 4
 },
 "nbformat": 4,
 "nbformat_minor": 2
}
